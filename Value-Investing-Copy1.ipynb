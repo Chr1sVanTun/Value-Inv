{
 "cells": [
  {
   "cell_type": "markdown",
   "metadata": {},
   "source": [
    "Programm zur Value-Investing Bewertung\n",
    "\n",
    "pandas.read_excel(io, sheet_name=0, header=0, names=None, index_col=None, parse_cols=None, usecols=None, squeeze=False, dtype=None, engine=None, converters=None, true_values=None, false_values=None, skiprows=None, nrows=None, na_values=None, keep_default_na=True, verbose=False, parse_dates=False, date_parser=None, thousands=None, comment=None, skip_footer=0, skipfooter=0, convert_float=True, mangle_dupe_cols=True, **kwds)"
   ]
  },
  {
   "cell_type": "code",
   "execution_count": 2,
   "metadata": {},
   "outputs": [],
   "source": [
    "#Input sind Gewinn, Umsatz, Kassenbestand, Multiplikator von 12,5 Anzahl frei im Umlauf befindlicher Aktien"
   ]
  },
  {
   "cell_type": "code",
   "execution_count": 41,
   "metadata": {},
   "outputs": [],
   "source": [
    "import pandas as pd\n",
    "df = pd.read_excel('Daten-Value-Bewertung.xlsx', sheet_name=2)"
   ]
  },
  {
   "cell_type": "code",
   "execution_count": 42,
   "metadata": {},
   "outputs": [
    {
     "data": {
      "text/html": [
       "<div>\n",
       "<style scoped>\n",
       "    .dataframe tbody tr th:only-of-type {\n",
       "        vertical-align: middle;\n",
       "    }\n",
       "\n",
       "    .dataframe tbody tr th {\n",
       "        vertical-align: top;\n",
       "    }\n",
       "\n",
       "    .dataframe thead th {\n",
       "        text-align: right;\n",
       "    }\n",
       "</style>\n",
       "<table border=\"1\" class=\"dataframe\">\n",
       "  <thead>\n",
       "    <tr style=\"text-align: right;\">\n",
       "      <th></th>\n",
       "      <th>Jahr</th>\n",
       "      <th>Gewinn</th>\n",
       "      <th>Umsatz</th>\n",
       "      <th>Aktien</th>\n",
       "      <th>Kasse</th>\n",
       "    </tr>\n",
       "  </thead>\n",
       "  <tbody>\n",
       "    <tr>\n",
       "      <th>0</th>\n",
       "      <td>2009</td>\n",
       "      <td>-124.63</td>\n",
       "      <td>863.94</td>\n",
       "      <td>NaN</td>\n",
       "      <td>NaN</td>\n",
       "    </tr>\n",
       "    <tr>\n",
       "      <th>1</th>\n",
       "      <td>2010</td>\n",
       "      <td>-15.73</td>\n",
       "      <td>1190.64</td>\n",
       "      <td>NaN</td>\n",
       "      <td>NaN</td>\n",
       "    </tr>\n",
       "    <tr>\n",
       "      <th>2</th>\n",
       "      <td>2011</td>\n",
       "      <td>75.02</td>\n",
       "      <td>1530.65</td>\n",
       "      <td>NaN</td>\n",
       "      <td>NaN</td>\n",
       "    </tr>\n",
       "    <tr>\n",
       "      <th>3</th>\n",
       "      <td>2012</td>\n",
       "      <td>20.57</td>\n",
       "      <td>1293.49</td>\n",
       "      <td>NaN</td>\n",
       "      <td>NaN</td>\n",
       "    </tr>\n",
       "    <tr>\n",
       "      <th>4</th>\n",
       "      <td>2013</td>\n",
       "      <td>36.30</td>\n",
       "      <td>1454.42</td>\n",
       "      <td>NaN</td>\n",
       "      <td>NaN</td>\n",
       "    </tr>\n",
       "    <tr>\n",
       "      <th>5</th>\n",
       "      <td>2014</td>\n",
       "      <td>21.78</td>\n",
       "      <td>1531.86</td>\n",
       "      <td>NaN</td>\n",
       "      <td>NaN</td>\n",
       "    </tr>\n",
       "    <tr>\n",
       "      <th>6</th>\n",
       "      <td>2015</td>\n",
       "      <td>4.84</td>\n",
       "      <td>1248.72</td>\n",
       "      <td>121.0</td>\n",
       "      <td>407.0</td>\n",
       "    </tr>\n",
       "    <tr>\n",
       "      <th>7</th>\n",
       "      <td>2016</td>\n",
       "      <td>16.60</td>\n",
       "      <td>1260.20</td>\n",
       "      <td>NaN</td>\n",
       "      <td>NaN</td>\n",
       "    </tr>\n",
       "    <tr>\n",
       "      <th>8</th>\n",
       "      <td>2017</td>\n",
       "      <td>121.20</td>\n",
       "      <td>1479.10</td>\n",
       "      <td>NaN</td>\n",
       "      <td>143.8</td>\n",
       "    </tr>\n",
       "    <tr>\n",
       "      <th>9</th>\n",
       "      <td>2018</td>\n",
       "      <td>69.90</td>\n",
       "      <td>1778.80</td>\n",
       "      <td>121.0</td>\n",
       "      <td>132.8</td>\n",
       "    </tr>\n",
       "  </tbody>\n",
       "</table>\n",
       "</div>"
      ],
      "text/plain": [
       "   Jahr  Gewinn   Umsatz  Aktien  Kasse\n",
       "0  2009 -124.63   863.94     NaN    NaN\n",
       "1  2010  -15.73  1190.64     NaN    NaN\n",
       "2  2011   75.02  1530.65     NaN    NaN\n",
       "3  2012   20.57  1293.49     NaN    NaN\n",
       "4  2013   36.30  1454.42     NaN    NaN\n",
       "5  2014   21.78  1531.86     NaN    NaN\n",
       "6  2015    4.84  1248.72   121.0  407.0\n",
       "7  2016   16.60  1260.20     NaN    NaN\n",
       "8  2017  121.20  1479.10     NaN  143.8\n",
       "9  2018   69.90  1778.80   121.0  132.8"
      ]
     },
     "execution_count": 42,
     "metadata": {},
     "output_type": "execute_result"
    }
   ],
   "source": [
    "df"
   ]
  },
  {
   "cell_type": "code",
   "execution_count": 43,
   "metadata": {},
   "outputs": [],
   "source": [
    "jahr = df[\"Jahr\"]\n",
    "gewinn = df[\"Gewinn\"]\n",
    "umsatz = df[\"Umsatz\"]\n",
    "aktien = df[\"Aktien\"]\n",
    "kasse = df[\"Kasse\"]"
   ]
  },
  {
   "cell_type": "code",
   "execution_count": 44,
   "metadata": {},
   "outputs": [
    {
     "name": "stdout",
     "output_type": "stream",
     "text": [
      "0   -0.144258\n",
      "1   -0.013211\n",
      "2    0.049012\n",
      "3    0.015903\n",
      "4    0.024958\n",
      "5    0.014218\n",
      "6    0.003876\n",
      "7    0.013173\n",
      "8    0.081942\n",
      "9    0.039296\n",
      "dtype: float64\n"
     ]
    }
   ],
   "source": [
    "#m ist der Multiplikator\n",
    "m = gewinn/umsatz\n",
    "print(m)"
   ]
  },
  {
   "cell_type": "code",
   "execution_count": 45,
   "metadata": {},
   "outputs": [
    {
     "data": {
      "text/plain": [
       "0.008490825478901575"
      ]
     },
     "execution_count": 45,
     "metadata": {},
     "output_type": "execute_result"
    }
   ],
   "source": [
    "#.mean Function errechnet den Durchschnitt des m Dataframes\n",
    "m.mean()"
   ]
  },
  {
   "cell_type": "code",
   "execution_count": 47,
   "metadata": {},
   "outputs": [
    {
     "name": "stdout",
     "output_type": "stream",
     "text": [
      "2.657797558044434\n",
      "2.1262380464355473\n",
      "1.8604582906311038\n",
      "1.5946785348266606\n",
      "1.328898779022217\n"
     ]
    }
   ],
   "source": [
    "M = 12.5\n",
    "G = m.mean()*umsatz[9]\n",
    "V = M*G\n",
    "V_kas = V+kasse[9]\n",
    "V_aktie = V_kas/aktien[9]\n",
    "V_aktie_50 = V_aktie*0.5\n",
    "V_aktie_40 = V_aktie*0.6\n",
    "V_aktie_30 = V_aktie*0.7\n",
    "V_aktie_20 = V_aktie*0.8\n",
    "print(V_aktie)\n",
    "print(V_aktie_20)\n",
    "print(V_aktie_30)\n",
    "print(V_aktie_40)\n",
    "print(V_aktie_50)"
   ]
  },
  {
   "cell_type": "markdown",
   "metadata": {},
   "source": [
    "BMW"
   ]
  },
  {
   "cell_type": "code",
   "execution_count": 48,
   "metadata": {},
   "outputs": [
    {
     "data": {
      "text/html": [
       "<div>\n",
       "<style scoped>\n",
       "    .dataframe tbody tr th:only-of-type {\n",
       "        vertical-align: middle;\n",
       "    }\n",
       "\n",
       "    .dataframe tbody tr th {\n",
       "        vertical-align: top;\n",
       "    }\n",
       "\n",
       "    .dataframe thead th {\n",
       "        text-align: right;\n",
       "    }\n",
       "</style>\n",
       "<table border=\"1\" class=\"dataframe\">\n",
       "  <thead>\n",
       "    <tr style=\"text-align: right;\">\n",
       "      <th></th>\n",
       "      <th>Jahr</th>\n",
       "      <th>Gewinn</th>\n",
       "      <th>Umsatz</th>\n",
       "      <th>Aktien</th>\n",
       "      <th>Kasse</th>\n",
       "    </tr>\n",
       "  </thead>\n",
       "  <tbody>\n",
       "    <tr>\n",
       "      <th>0</th>\n",
       "      <td>2009</td>\n",
       "      <td>204</td>\n",
       "      <td>50681</td>\n",
       "      <td>NaN</td>\n",
       "      <td>NaN</td>\n",
       "    </tr>\n",
       "    <tr>\n",
       "      <th>1</th>\n",
       "      <td>2010</td>\n",
       "      <td>3218</td>\n",
       "      <td>60477</td>\n",
       "      <td>NaN</td>\n",
       "      <td>NaN</td>\n",
       "    </tr>\n",
       "    <tr>\n",
       "      <th>2</th>\n",
       "      <td>2011</td>\n",
       "      <td>4881</td>\n",
       "      <td>68821</td>\n",
       "      <td>NaN</td>\n",
       "      <td>NaN</td>\n",
       "    </tr>\n",
       "    <tr>\n",
       "      <th>3</th>\n",
       "      <td>2012</td>\n",
       "      <td>5096</td>\n",
       "      <td>76848</td>\n",
       "      <td>NaN</td>\n",
       "      <td>NaN</td>\n",
       "    </tr>\n",
       "    <tr>\n",
       "      <th>4</th>\n",
       "      <td>2013</td>\n",
       "      <td>5314</td>\n",
       "      <td>76058</td>\n",
       "      <td>NaN</td>\n",
       "      <td>NaN</td>\n",
       "    </tr>\n",
       "    <tr>\n",
       "      <th>5</th>\n",
       "      <td>2014</td>\n",
       "      <td>5798</td>\n",
       "      <td>80401</td>\n",
       "      <td>NaN</td>\n",
       "      <td>NaN</td>\n",
       "    </tr>\n",
       "    <tr>\n",
       "      <th>6</th>\n",
       "      <td>2015</td>\n",
       "      <td>6369</td>\n",
       "      <td>92175</td>\n",
       "      <td>602.0</td>\n",
       "      <td>6122.0</td>\n",
       "    </tr>\n",
       "    <tr>\n",
       "      <th>7</th>\n",
       "      <td>2016</td>\n",
       "      <td>6863</td>\n",
       "      <td>94163</td>\n",
       "      <td>NaN</td>\n",
       "      <td>NaN</td>\n",
       "    </tr>\n",
       "    <tr>\n",
       "      <th>8</th>\n",
       "      <td>2017</td>\n",
       "      <td>8620</td>\n",
       "      <td>98678</td>\n",
       "      <td>NaN</td>\n",
       "      <td>NaN</td>\n",
       "    </tr>\n",
       "    <tr>\n",
       "      <th>9</th>\n",
       "      <td>2018</td>\n",
       "      <td>7117</td>\n",
       "      <td>97480</td>\n",
       "      <td>602.0</td>\n",
       "      <td>10979.0</td>\n",
       "    </tr>\n",
       "  </tbody>\n",
       "</table>\n",
       "</div>"
      ],
      "text/plain": [
       "   Jahr  Gewinn  Umsatz  Aktien    Kasse\n",
       "0  2009     204   50681     NaN      NaN\n",
       "1  2010    3218   60477     NaN      NaN\n",
       "2  2011    4881   68821     NaN      NaN\n",
       "3  2012    5096   76848     NaN      NaN\n",
       "4  2013    5314   76058     NaN      NaN\n",
       "5  2014    5798   80401     NaN      NaN\n",
       "6  2015    6369   92175   602.0   6122.0\n",
       "7  2016    6863   94163     NaN      NaN\n",
       "8  2017    8620   98678     NaN      NaN\n",
       "9  2018    7117   97480   602.0  10979.0"
      ]
     },
     "execution_count": 48,
     "metadata": {},
     "output_type": "execute_result"
    }
   ],
   "source": [
    "df1 = pd.read_excel('Daten-Value-Bewertung.xlsx', sheet_name=1)\n",
    "df1"
   ]
  },
  {
   "cell_type": "code",
   "execution_count": 49,
   "metadata": {},
   "outputs": [],
   "source": [
    "jahr1 = df1[\"Jahr\"]\n",
    "gewinn1 = df1[\"Gewinn\"]\n",
    "umsatz1 = df1[\"Umsatz\"]\n",
    "aktien1 = df1[\"Aktien\"]\n",
    "kasse1 = df1[\"Kasse\"]"
   ]
  },
  {
   "cell_type": "code",
   "execution_count": 51,
   "metadata": {},
   "outputs": [
    {
     "data": {
      "text/plain": [
       "0    0.004025\n",
       "1    0.053210\n",
       "2    0.070923\n",
       "3    0.066313\n",
       "4    0.069868\n",
       "5    0.072114\n",
       "6    0.069097\n",
       "7    0.072884\n",
       "8    0.087355\n",
       "9    0.073010\n",
       "dtype: float64"
      ]
     },
     "execution_count": 51,
     "metadata": {},
     "output_type": "execute_result"
    }
   ],
   "source": [
    "m1 = gewinn1/umsatz1\n",
    "m1"
   ]
  },
  {
   "cell_type": "code",
   "execution_count": 53,
   "metadata": {},
   "outputs": [
    {
     "name": "stdout",
     "output_type": "stream",
     "text": [
      "18.551152000869397\n",
      "14.840921600695518\n",
      "12.985806400608578\n",
      "11.130691200521637\n",
      "9.275576000434699\n"
     ]
    }
   ],
   "source": [
    "M = 12.5\n",
    "G1 = m1.mean()*umsatz1[9]\n",
    "V1 = M*G1\n",
    "V_kas1 = V+kasse1[9]\n",
    "V_aktie1 = V_kas1/aktien1[9]\n",
    "V_aktie1_50 = V_aktie1*0.5\n",
    "V_aktie1_40 = V_aktie1*0.6\n",
    "V_aktie1_30 = V_aktie1*0.7\n",
    "V_aktie1_20 = V_aktie1*0.8\n",
    "print(V_aktie1)\n",
    "print(V_aktie1_20)\n",
    "print(V_aktie1_30)\n",
    "print(V_aktie1_40)\n",
    "print(V_aktie1_50)"
   ]
  },
  {
   "cell_type": "markdown",
   "metadata": {},
   "source": [
    "Deutz AG"
   ]
  },
  {
   "cell_type": "code",
   "execution_count": 55,
   "metadata": {},
   "outputs": [
    {
     "name": "stdout",
     "output_type": "stream",
     "text": [
      "0    0.102538\n",
      "1    0.117030\n",
      "2    0.109346\n",
      "3    0.113573\n",
      "4    0.119096\n",
      "5    0.117638\n",
      "6    0.113414\n",
      "7    0.114248\n",
      "8    0.108775\n",
      "9    0.112193\n",
      "dtype: float64\n",
      "5.48276435033395\n",
      "4.38621148026716\n",
      "3.8379350452337646\n",
      "3.28965861020037\n",
      "2.741382175166975\n"
     ]
    }
   ],
   "source": [
    "df2 = pd.read_excel('Daten-Value-Bewertung.xlsx', sheet_name=0)\n",
    "df2\n",
    "jahr2 = df2[\"Jahr\"]\n",
    "gewinn2 = df2[\"Gewinn\"]\n",
    "umsatz2 = df2[\"Umsatz\"]\n",
    "aktien2 = df2[\"Aktien\"]\n",
    "kasse2 = df2[\"Kasse\"]\n",
    "m2 = gewinn2/umsatz2\n",
    "print(m2)\n",
    "m2.mean()\n",
    "G2 = m2.mean()*umsatz2[9]\n",
    "V2 = M*G2\n",
    "V_kas2 = V+kasse2[9]\n",
    "V_aktie2 = V_kas2/aktien2[9]\n",
    "V_aktie2_50 = V_aktie2*0.5\n",
    "V_aktie2_40 = V_aktie2*0.6\n",
    "V_aktie2_30 = V_aktie2*0.7\n",
    "V_aktie2_20 = V_aktie2*0.8\n",
    "print(V_aktie2)\n",
    "print(V_aktie2_20)\n",
    "print(V_aktie2_30)\n",
    "print(V_aktie2_40)\n",
    "print(V_aktie2_50)"
   ]
  },
  {
   "cell_type": "code",
   "execution_count": 28,
   "metadata": {},
   "outputs": [
    {
     "name": "stdout",
     "output_type": "stream",
     "text": [
      "0.008490825478901575\n"
     ]
    }
   ],
   "source": [
    "print(m2.mean())\n"
   ]
  },
  {
   "cell_type": "code",
   "execution_count": 27,
   "metadata": {},
   "outputs": [
    {
     "data": {
      "text/html": [
       "<div>\n",
       "<style scoped>\n",
       "    .dataframe tbody tr th:only-of-type {\n",
       "        vertical-align: middle;\n",
       "    }\n",
       "\n",
       "    .dataframe tbody tr th {\n",
       "        vertical-align: top;\n",
       "    }\n",
       "\n",
       "    .dataframe thead th {\n",
       "        text-align: right;\n",
       "    }\n",
       "</style>\n",
       "<table border=\"1\" class=\"dataframe\">\n",
       "  <thead>\n",
       "    <tr style=\"text-align: right;\">\n",
       "      <th></th>\n",
       "      <th>Jahr</th>\n",
       "      <th>Gewinn</th>\n",
       "      <th>Umsatz</th>\n",
       "      <th>Aktien</th>\n",
       "      <th>Kasse</th>\n",
       "    </tr>\n",
       "  </thead>\n",
       "  <tbody>\n",
       "    <tr>\n",
       "      <th>0</th>\n",
       "      <td>2009</td>\n",
       "      <td>-124.63</td>\n",
       "      <td>863.94</td>\n",
       "      <td>NaN</td>\n",
       "      <td>NaN</td>\n",
       "    </tr>\n",
       "    <tr>\n",
       "      <th>1</th>\n",
       "      <td>2010</td>\n",
       "      <td>-15.73</td>\n",
       "      <td>1190.64</td>\n",
       "      <td>NaN</td>\n",
       "      <td>NaN</td>\n",
       "    </tr>\n",
       "    <tr>\n",
       "      <th>2</th>\n",
       "      <td>2011</td>\n",
       "      <td>75.02</td>\n",
       "      <td>1530.65</td>\n",
       "      <td>NaN</td>\n",
       "      <td>NaN</td>\n",
       "    </tr>\n",
       "    <tr>\n",
       "      <th>3</th>\n",
       "      <td>2012</td>\n",
       "      <td>20.57</td>\n",
       "      <td>1293.49</td>\n",
       "      <td>NaN</td>\n",
       "      <td>NaN</td>\n",
       "    </tr>\n",
       "    <tr>\n",
       "      <th>4</th>\n",
       "      <td>2013</td>\n",
       "      <td>36.30</td>\n",
       "      <td>1454.42</td>\n",
       "      <td>NaN</td>\n",
       "      <td>NaN</td>\n",
       "    </tr>\n",
       "    <tr>\n",
       "      <th>5</th>\n",
       "      <td>2014</td>\n",
       "      <td>21.78</td>\n",
       "      <td>1531.86</td>\n",
       "      <td>NaN</td>\n",
       "      <td>NaN</td>\n",
       "    </tr>\n",
       "    <tr>\n",
       "      <th>6</th>\n",
       "      <td>2015</td>\n",
       "      <td>4.84</td>\n",
       "      <td>1248.72</td>\n",
       "      <td>121.0</td>\n",
       "      <td>407.0</td>\n",
       "    </tr>\n",
       "    <tr>\n",
       "      <th>7</th>\n",
       "      <td>2016</td>\n",
       "      <td>16.60</td>\n",
       "      <td>1260.20</td>\n",
       "      <td>NaN</td>\n",
       "      <td>NaN</td>\n",
       "    </tr>\n",
       "    <tr>\n",
       "      <th>8</th>\n",
       "      <td>2017</td>\n",
       "      <td>121.20</td>\n",
       "      <td>1479.10</td>\n",
       "      <td>NaN</td>\n",
       "      <td>143.8</td>\n",
       "    </tr>\n",
       "    <tr>\n",
       "      <th>9</th>\n",
       "      <td>2018</td>\n",
       "      <td>69.90</td>\n",
       "      <td>1778.80</td>\n",
       "      <td>121.0</td>\n",
       "      <td>132.8</td>\n",
       "    </tr>\n",
       "  </tbody>\n",
       "</table>\n",
       "</div>"
      ],
      "text/plain": [
       "   Jahr  Gewinn   Umsatz  Aktien  Kasse\n",
       "0  2009 -124.63   863.94     NaN    NaN\n",
       "1  2010  -15.73  1190.64     NaN    NaN\n",
       "2  2011   75.02  1530.65     NaN    NaN\n",
       "3  2012   20.57  1293.49     NaN    NaN\n",
       "4  2013   36.30  1454.42     NaN    NaN\n",
       "5  2014   21.78  1531.86     NaN    NaN\n",
       "6  2015    4.84  1248.72   121.0  407.0\n",
       "7  2016   16.60  1260.20     NaN    NaN\n",
       "8  2017  121.20  1479.10     NaN  143.8\n",
       "9  2018   69.90  1778.80   121.0  132.8"
      ]
     },
     "execution_count": 27,
     "metadata": {},
     "output_type": "execute_result"
    }
   ],
   "source": [
    "df2"
   ]
  },
  {
   "cell_type": "code",
   "execution_count": null,
   "metadata": {},
   "outputs": [],
   "source": []
  }
 ],
 "metadata": {
  "kernelspec": {
   "display_name": "Python 3",
   "language": "python",
   "name": "python3"
  },
  "language_info": {
   "codemirror_mode": {
    "name": "ipython",
    "version": 3
   },
   "file_extension": ".py",
   "mimetype": "text/x-python",
   "name": "python",
   "nbconvert_exporter": "python",
   "pygments_lexer": "ipython3",
   "version": "3.6.5"
  }
 },
 "nbformat": 4,
 "nbformat_minor": 2
}
